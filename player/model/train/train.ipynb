{
 "cells": [
  {
   "cell_type": "code",
   "execution_count": 1,
   "id": "initial_id",
   "metadata": {
    "collapsed": true,
    "ExecuteTime": {
     "end_time": "2024-10-27T16:27:40.265108500Z",
     "start_time": "2024-10-27T16:27:30.895246400Z"
    }
   },
   "outputs": [],
   "source": [
    "import torch\n",
    "from torch import nn\n",
    "from data import get_batches"
   ]
  },
  {
   "cell_type": "code",
   "execution_count": 2,
   "outputs": [],
   "source": [
    "device = 'cuda' if torch.cuda.is_available() else 'cpu'"
   ],
   "metadata": {
    "collapsed": false,
    "ExecuteTime": {
     "end_time": "2024-10-27T16:27:42.236803700Z",
     "start_time": "2024-10-27T16:27:42.233283Z"
    }
   },
   "id": "6eb61595c3d08dbf"
  },
  {
   "cell_type": "code",
   "execution_count": 3,
   "outputs": [],
   "source": [
    "def train(model, loss_fn, optim):\n",
    "    model.train()\n",
    "    Loss = []\n",
    "    for input, output in get_batches():\n",
    "        out = model(input)\n",
    "\n",
    "        loss = loss_fn(out, output)\n",
    "        Loss.append(loss.item())\n",
    "\n",
    "        model.zero_grad()\n",
    "        loss.backward()\n",
    "        optim.step()\n",
    "    return sum(Loss) / len(Loss)\n",
    "\n",
    "\n",
    "def test(model, loss_fn):\n",
    "    model.eval()\n",
    "    Loss = []\n",
    "    for input, output in get_batches(test=True):\n",
    "        out = model(input)\n",
    "\n",
    "        loss = loss_fn(out, output)\n",
    "        Loss.append(loss.item())\n",
    "    return sum(Loss) / len(Loss)"
   ],
   "metadata": {
    "collapsed": false,
    "ExecuteTime": {
     "end_time": "2024-10-27T16:27:43.041041300Z",
     "start_time": "2024-10-27T16:27:43.037629800Z"
    }
   },
   "id": "7be751c2e82aa546"
  },
  {
   "cell_type": "code",
   "execution_count": 16,
   "outputs": [],
   "source": [
    "model = nn.Sequential(\n",
    "    nn.Linear(832, 512),\n",
    "    nn.ReLU(),\n",
    "    nn.Linear(512, 512),\n",
    "    nn.ReLU(),\n",
    "    nn.Linear(512, 256),\n",
    "    nn.ReLU(),\n",
    "    nn.Linear(256, 64),\n",
    "    nn.Sigmoid()\n",
    ").to(device)\n",
    "\n",
    "loss_fn = nn.MSELoss()\n",
    "optim = torch.optim.Adam(model.parameters(), 3e-4)"
   ],
   "metadata": {
    "collapsed": false,
    "ExecuteTime": {
     "end_time": "2024-10-27T16:36:35.359359500Z",
     "start_time": "2024-10-27T16:36:35.348061200Z"
    }
   },
   "id": "da140f666a319080"
  },
  {
   "cell_type": "code",
   "execution_count": 17,
   "outputs": [],
   "source": [
    "best = 1"
   ],
   "metadata": {
    "collapsed": false,
    "ExecuteTime": {
     "end_time": "2024-10-27T16:36:35.668230Z",
     "start_time": "2024-10-27T16:36:35.662711Z"
    }
   },
   "id": "d9694a2d1d5dfa4f"
  },
  {
   "cell_type": "code",
   "execution_count": 18,
   "outputs": [
    {
     "name": "stdout",
     "output_type": "stream",
     "text": [
      "Epoch 1...\n",
      "Train loss: 0.03616051320401821\n",
      "Test loss: 0.030043805682450343\n",
      "Model saved\n",
      "\n",
      "Epoch 2...\n",
      "Train loss: 0.029538075881565262\n",
      "Test loss: 0.029369501835980992\n",
      "Model saved\n",
      "\n",
      "Epoch 3...\n",
      "Train loss: 0.029216403945402546\n",
      "Test loss: 0.02902419606496574\n",
      "Model saved\n",
      "\n",
      "Epoch 4...\n",
      "Train loss: 0.02879787475511337\n",
      "Test loss: 0.0287270182447069\n",
      "Model saved\n",
      "\n",
      "Epoch 5...\n",
      "Train loss: 0.028392682750679694\n",
      "Test loss: 0.02839420438050085\n",
      "Model saved\n",
      "\n",
      "Epoch 6...\n",
      "Train loss: 0.02801175005615327\n",
      "Test loss: 0.02828026309039942\n",
      "Model saved\n",
      "\n",
      "Epoch 7...\n",
      "Train loss: 0.02769221316809487\n",
      "Test loss: 0.028071362465904776\n",
      "Model saved\n",
      "\n",
      "Epoch 8...\n",
      "Train loss: 0.027365638346523995\n",
      "Test loss: 0.028001239072460278\n",
      "Model saved\n",
      "\n",
      "Epoch 9...\n",
      "Train loss: 0.027029879145015766\n",
      "Test loss: 0.027956221917062807\n",
      "Model saved\n",
      "\n",
      "Epoch 10...\n",
      "Train loss: 0.02668379304135681\n",
      "Test loss: 0.027861400726874163\n",
      "Model saved\n",
      "\n",
      "Epoch 11...\n",
      "Train loss: 0.026318680527649678\n",
      "Test loss: 0.027790849980939725\n",
      "Model saved\n",
      "\n",
      "Epoch 12...\n",
      "Train loss: 0.025946069760900584\n",
      "Test loss: 0.027808151284980168\n",
      "\n",
      "Epoch 13...\n",
      "Train loss: 0.025546649912858654\n",
      "Test loss: 0.027905978381064286\n",
      "\n",
      "Epoch 14...\n",
      "Train loss: 0.025105307424429117\n",
      "Test loss: 0.0278965768398373\n",
      "\n",
      "Epoch 15...\n",
      "Train loss: 0.024651390672394424\n",
      "Test loss: 0.02805255029564071\n",
      "\n",
      "Epoch 16...\n",
      "Train loss: 0.024154745846108838\n",
      "Test loss: 0.028163711036181753\n",
      "\n",
      "Epoch 17...\n",
      "Train loss: 0.023665520065956434\n",
      "Test loss: 0.028208057366453917\n",
      "\n",
      "Epoch 18...\n",
      "Train loss: 0.02312215416140522\n",
      "Test loss: 0.028338176560155144\n",
      "\n",
      "Epoch 19...\n",
      "Train loss: 0.022579070696737737\n",
      "Test loss: 0.02867264719383352\n",
      "\n",
      "Epoch 20...\n",
      "Train loss: 0.022033029609614875\n",
      "Test loss: 0.028880362808229816\n",
      "\n",
      "Epoch 21...\n",
      "Train loss: 0.021465569968887006\n",
      "Test loss: 0.029153925052304176\n",
      "\n",
      "Epoch 22...\n",
      "Train loss: 0.020886733905548693\n",
      "Test loss: 0.029378154937913462\n",
      "\n",
      "Epoch 23...\n",
      "Train loss: 0.02033006559143875\n",
      "Test loss: 0.029543615628484707\n",
      "\n",
      "Last save on 11 epoch\n"
     ]
    }
   ],
   "source": [
    "last_save = 0\n",
    "epoch = 0\n",
    "train_loss = []\n",
    "test_loss = []\n",
    "remaining = 1\n",
    "\n",
    "while remaining:\n",
    "    epoch += 1\n",
    "    print(f'Epoch {epoch}...')\n",
    "\n",
    "    loss = train(model, loss_fn, optim)\n",
    "    train_loss.append(loss)\n",
    "    print(f'Train loss: {loss}')\n",
    "\n",
    "    loss = test(model, loss_fn)\n",
    "    test_loss.append(loss)\n",
    "    print(f'Test loss: {loss}')\n",
    "\n",
    "    remaining -= 1\n",
    "\n",
    "    if loss < best:\n",
    "        remaining += 2\n",
    "        torch.save(model, '../model.pt')\n",
    "        best = loss\n",
    "        last_save = epoch\n",
    "        print('Model saved')\n",
    "    print()\n",
    "torch.save(model, '../model.pt')\n",
    "print(f'Last save on {last_save} epoch')"
   ],
   "metadata": {
    "collapsed": false,
    "ExecuteTime": {
     "end_time": "2024-10-27T16:37:01.186696300Z",
     "start_time": "2024-10-27T16:36:37.083989900Z"
    }
   },
   "id": "a864d29d0ab2088"
  },
  {
   "cell_type": "code",
   "execution_count": 19,
   "outputs": [
    {
     "name": "stdout",
     "output_type": "stream",
     "text": [
      "0.02954361575898851\n"
     ]
    }
   ],
   "source": [
    "model = torch.load('../model.pt')\n",
    "print(test(model, loss_fn))"
   ],
   "metadata": {
    "collapsed": false,
    "ExecuteTime": {
     "end_time": "2024-10-27T16:37:02.675971900Z",
     "start_time": "2024-10-27T16:37:02.574697700Z"
    }
   },
   "id": "790b9e6f33f035f8"
  },
  {
   "cell_type": "code",
   "execution_count": 20,
   "outputs": [
    {
     "data": {
      "text/plain": "<Figure size 640x480 with 1 Axes>",
      "image/png": "[encoded data removed]"
     },
     "metadata": {},
     "output_type": "display_data"
    }
   ],
   "source": [
    "from matplotlib import pyplot as plt\n",
    "\n",
    "plt.title('Player model train and test loss')\n",
    "plt.ylabel('Loss')\n",
    "plt.xlabel('Epoch')\n",
    "plt.plot(train_loss, label='train loss')\n",
    "plt.plot(test_loss, label='test_loss')\n",
    "plt.legend()\n",
    "plt.show()"
   ],
   "metadata": {
    "collapsed": false,
    "ExecuteTime": {
     "end_time": "2024-10-27T16:37:03.448586700Z",
     "start_time": "2024-10-27T16:37:03.322491800Z"
    }
   },
   "id": "50e8f00cb6d1512"
  },
  {
   "cell_type": "code",
   "execution_count": null,
   "outputs": [],
   "source": [],
   "metadata": {
    "collapsed": false
   },
   "id": "7270d27b13b72606"
  }
 ],
 "metadata": {
  "kernelspec": {
   "display_name": "Python 3",
   "language": "python",
   "name": "python3"
  },
  "language_info": {
   "codemirror_mode": {
    "name": "ipython",
    "version": 2
   },
   "file_extension": ".py",
   "mimetype": "text/x-python",
   "name": "python",
   "nbconvert_exporter": "python",
   "pygments_lexer": "ipython2",
   "version": "2.7.6"
  }
 },
 "nbformat": 4,
 "nbformat_minor": 5
}
