{
 "cells": [
  {
   "cell_type": "code",
   "execution_count": 255,
   "id": "initial_id",
   "metadata": {
    "collapsed": true,
    "ExecuteTime": {
     "end_time": "2024-11-24T20:27:50.854612300Z",
     "start_time": "2024-11-24T20:27:50.837227900Z"
    }
   },
   "outputs": [],
   "source": [
    "import torch\n",
    "import chess\n",
    "import pandas as pd\n",
    "import numpy as np\n",
    "from torch import nn\n",
    "from random import shuffle\n",
    "from torch.utils.data import DataLoader, Dataset"
   ]
  },
  {
   "cell_type": "code",
   "execution_count": 256,
   "outputs": [],
   "source": [
    "device = 'cuda' if torch.cuda.is_available() else 'cpu'"
   ],
   "metadata": {
    "collapsed": false,
    "ExecuteTime": {
     "end_time": "2024-11-24T20:27:51.147084100Z",
     "start_time": "2024-11-24T20:27:51.140568Z"
    }
   },
   "id": "62cf3d9774ef7cfc"
  },
  {
   "cell_type": "code",
   "execution_count": 266,
   "outputs": [],
   "source": [
    "data = pd.read_csv('chessData.csv')[:100000]"
   ],
   "metadata": {
    "collapsed": false,
    "ExecuteTime": {
     "end_time": "2024-11-24T20:33:36.237758600Z",
     "start_time": "2024-11-24T20:33:25.347681900Z"
    }
   },
   "id": "adc5826dba65d04"
  },
  {
   "cell_type": "code",
   "execution_count": 269,
   "outputs": [],
   "source": [
    "class Data(Dataset):\n",
    "    def __init__(self, data, test=False):\n",
    "        l, r = 0, int(len(data) * 0.9)\n",
    "        if test: l, r = r, len(data)\n",
    "        fen = []\n",
    "        self.score = []\n",
    "        piece = {' ': 0,\n",
    "                 'r': 1, 'n': 2, 'b': 3, 'q': 4, 'k': 5, 'p': 6,\n",
    "                 'R': 7, 'N': 8, 'B': 9, 'Q': 10, 'K': 11, 'P': 12}\n",
    "        for fn, sc in zip(data[l:r]['FEN'], data[l:r]['Evaluation']):\n",
    "            fn, sd = fn.split()[:2]\n",
    "            mul = 1\n",
    "            if sd == 'w':\n",
    "                mul = -1\n",
    "                fn = chess.Board(fn).mirror().fen().split()[0]\n",
    "            fn = [''.join(int(j) * ' ' if j.isdigit() else j for j in i) for i in fn.split('/')]\n",
    "            fn = [[piece[j] for j in i] for i in fn]\n",
    "            fen.append(fn)\n",
    "            sgn = 1 if '+' in sc else -1\n",
    "            self.score.append((15000 * sgn if sc.startswith('#') else int(sc)) * mul)\n",
    "        fen = np.array(fen)\n",
    "        self.board = np.zeros((len(fen), 12, 8, 8))\n",
    "        for i in range(len(fen)):\n",
    "            for y in range(8):\n",
    "                for x in range(8):\n",
    "                    piece = fen[i, y, x]\n",
    "                    if piece == 0: continue\n",
    "                    self.board[i, piece - 1, y, x] = 1\n",
    "        self.board = torch.tensor(self.board).float()\n",
    "        self.score = torch.tensor(self.score)[:, None].float()\n",
    "\n",
    "    def __len__(self):\n",
    "        return len(self.score)\n",
    "\n",
    "    def __getitem__(self, item):\n",
    "        return self.board[item].to(device), self.score[item].to(device)"
   ],
   "metadata": {
    "collapsed": false,
    "ExecuteTime": {
     "end_time": "2024-11-24T20:33:54.994966500Z",
     "start_time": "2024-11-24T20:33:54.988406100Z"
    }
   },
   "id": "33ee1c3c100b44aa"
  },
  {
   "cell_type": "code",
   "execution_count": 270,
   "outputs": [],
   "source": [
    "train = DataLoader(Data(data, test=False), 64, True)\n",
    "test = DataLoader(Data(data, test=True), 64, True)"
   ],
   "metadata": {
    "collapsed": false,
    "ExecuteTime": {
     "end_time": "2024-11-24T20:34:06.735291600Z",
     "start_time": "2024-11-24T20:33:55.462590300Z"
    }
   },
   "id": "f0fe5e0bf815f8b6"
  },
  {
   "cell_type": "code",
   "execution_count": 271,
   "outputs": [],
   "source": [
    "model = nn.Sequential(\n",
    "    nn.Conv2d(12, 8, 15, 1, 7),\n",
    "    nn.GELU(),\n",
    "    *(\n",
    "        nn.Sequential(\n",
    "            nn.Conv2d(8, 8, 15, 1, 7),\n",
    "            nn.GELU(),\n",
    "            nn.Dropout(0.2),\n",
    "        )\n",
    "        for _ in range(5)\n",
    "    ),\n",
    "    nn.Conv2d(8, 256, 8),\n",
    "    nn.GELU(),\n",
    "    nn.Flatten(),\n",
    "    nn.Linear(256, 64),\n",
    "    nn.GELU(),\n",
    "    nn.Linear(64, 16),\n",
    "    nn.GELU(),\n",
    "    nn.Linear(16, 1)\n",
    ").to(device)\n",
    "\n",
    "loss_fn = nn.MSELoss()\n",
    "optim = torch.optim.Adam(model.parameters())\n",
    "\n",
    "train_loss = []\n",
    "test_loss = []\n",
    "best = float('inf')"
   ],
   "metadata": {
    "collapsed": false,
    "ExecuteTime": {
     "end_time": "2024-11-24T20:34:09.208093300Z",
     "start_time": "2024-11-24T20:34:09.184337200Z"
    }
   },
   "id": "eb0a355311901349"
  },
  {
   "cell_type": "code",
   "execution_count": 276,
   "outputs": [
    {
     "name": "stdout",
     "output_type": "stream",
     "text": [
      "Epoch 0...\n",
      "Train loss: 168213.7352981188\n",
      "Test loss:1776974.0796924762\n",
      "Epoch 1...\n",
      "Train loss: 157701.89149259284\n",
      "Test loss:1792767.6286325636\n",
      "Epoch 2...\n",
      "Train loss: 156782.85661883108\n",
      "Test loss:1749166.0377935907\n",
      "Epoch 3...\n",
      "Train loss: 138013.54212475568\n",
      "Test loss:1747938.068875647\n",
      "Epoch 4...\n",
      "Train loss: 145723.49020105944\n",
      "Test loss:1821694.966311704\n",
      "Epoch 5...\n",
      "Train loss: 158314.10916053105\n",
      "Test loss:1749957.451171875\n",
      "Epoch 6...\n",
      "Train loss: 140161.0382018479\n",
      "Test loss:1794273.114326234\n",
      "Epoch 7...\n",
      "Train loss: 153857.05887068564\n",
      "Test loss:1795037.7703647492\n",
      "Epoch 8...\n",
      "Train loss: 141185.94459135682\n",
      "Test loss:1807334.1632165606\n",
      "Epoch 9...\n",
      "Train loss: 148516.0645877754\n",
      "Test loss:1782838.169872114\n",
      "Epoch 10...\n",
      "Train loss: 136695.09382148966\n",
      "Test loss:1788670.8343949046\n",
      "Epoch 11...\n",
      "Train loss: 145155.00475232652\n",
      "Test loss:1752397.8470839967\n",
      "Epoch 12...\n",
      "Train loss: 129153.24912199605\n",
      "Test loss:1780119.6836932723\n",
      "Epoch 13...\n",
      "Train loss: 137891.333293077\n",
      "Test loss:1771367.3450686703\n",
      "Epoch 14...\n",
      "Train loss: 137384.5443228889\n",
      "Test loss:1713134.7935907643\n",
      "Epoch 15...\n",
      "Train loss: 134068.1894586776\n",
      "Test loss:1789375.6624203823\n",
      "Epoch 16...\n",
      "Train loss: 140358.19938463374\n",
      "Test loss:1760941.7192476115\n",
      "Epoch 17...\n",
      "Train loss: 121870.38966787158\n",
      "Test loss:1807470.6603552946\n",
      "Epoch 18...\n",
      "Train loss: 132665.39719996558\n",
      "Test loss:1790195.738331011\n",
      "Epoch 19...\n",
      "Train loss: 127433.3062116871\n",
      "Test loss:1799404.3770650877\n",
      "Epoch 20...\n",
      "Train loss: 124025.59610429993\n",
      "Test loss:1750792.1943919188\n",
      "Epoch 21...\n"
     ]
    },
    {
     "ename": "KeyboardInterrupt",
     "evalue": "",
     "output_type": "error",
     "traceback": [
      "\u001B[1;31m---------------------------------------------------------------------------\u001B[0m",
      "\u001B[1;31mKeyboardInterrupt\u001B[0m                         Traceback (most recent call last)",
      "Cell \u001B[1;32mIn[276], line 5\u001B[0m\n\u001B[0;32m      3\u001B[0m model\u001B[38;5;241m.\u001B[39mtrain()\n\u001B[0;32m      4\u001B[0m Loss \u001B[38;5;241m=\u001B[39m []\n\u001B[1;32m----> 5\u001B[0m \u001B[43m\u001B[49m\u001B[38;5;28;43;01mfor\u001B[39;49;00m\u001B[43m \u001B[49m\u001B[43mboard\u001B[49m\u001B[43m,\u001B[49m\u001B[43m \u001B[49m\u001B[43mscore\u001B[49m\u001B[43m \u001B[49m\u001B[38;5;129;43;01min\u001B[39;49;00m\u001B[43m \u001B[49m\u001B[43mtrain\u001B[49m\u001B[43m:\u001B[49m\n\u001B[0;32m      6\u001B[0m \u001B[43m    \u001B[49m\u001B[43msc\u001B[49m\u001B[43m \u001B[49m\u001B[38;5;241;43m=\u001B[39;49m\u001B[43m \u001B[49m\u001B[43mmodel\u001B[49m\u001B[43m(\u001B[49m\u001B[43mboard\u001B[49m\u001B[43m)\u001B[49m\n\u001B[0;32m      8\u001B[0m \u001B[43m    \u001B[49m\u001B[43mloss\u001B[49m\u001B[43m \u001B[49m\u001B[38;5;241;43m=\u001B[39;49m\u001B[43m \u001B[49m\u001B[43mloss_fn\u001B[49m\u001B[43m(\u001B[49m\u001B[43msc\u001B[49m\u001B[43m,\u001B[49m\u001B[43m \u001B[49m\u001B[43mscore\u001B[49m\u001B[43m)\u001B[49m\n",
      "File \u001B[1;32m~\\AppData\\Local\\Programs\\Python\\Python311\\Lib\\site-packages\\torch\\utils\\data\\dataloader.py:631\u001B[0m, in \u001B[0;36m_BaseDataLoaderIter.__next__\u001B[1;34m(self)\u001B[0m\n\u001B[0;32m    628\u001B[0m \u001B[38;5;28;01mif\u001B[39;00m \u001B[38;5;28mself\u001B[39m\u001B[38;5;241m.\u001B[39m_sampler_iter \u001B[38;5;129;01mis\u001B[39;00m \u001B[38;5;28;01mNone\u001B[39;00m:\n\u001B[0;32m    629\u001B[0m     \u001B[38;5;66;03m# TODO(https://github.com/pytorch/pytorch/issues/76750)\u001B[39;00m\n\u001B[0;32m    630\u001B[0m     \u001B[38;5;28mself\u001B[39m\u001B[38;5;241m.\u001B[39m_reset()  \u001B[38;5;66;03m# type: ignore[call-arg]\u001B[39;00m\n\u001B[1;32m--> 631\u001B[0m data \u001B[38;5;241m=\u001B[39m \u001B[38;5;28;43mself\u001B[39;49m\u001B[38;5;241;43m.\u001B[39;49m\u001B[43m_next_data\u001B[49m\u001B[43m(\u001B[49m\u001B[43m)\u001B[49m\n\u001B[0;32m    632\u001B[0m \u001B[38;5;28mself\u001B[39m\u001B[38;5;241m.\u001B[39m_num_yielded \u001B[38;5;241m+\u001B[39m\u001B[38;5;241m=\u001B[39m \u001B[38;5;241m1\u001B[39m\n\u001B[0;32m    633\u001B[0m \u001B[38;5;28;01mif\u001B[39;00m \u001B[38;5;28mself\u001B[39m\u001B[38;5;241m.\u001B[39m_dataset_kind \u001B[38;5;241m==\u001B[39m _DatasetKind\u001B[38;5;241m.\u001B[39mIterable \u001B[38;5;129;01mand\u001B[39;00m \\\n\u001B[0;32m    634\u001B[0m         \u001B[38;5;28mself\u001B[39m\u001B[38;5;241m.\u001B[39m_IterableDataset_len_called \u001B[38;5;129;01mis\u001B[39;00m \u001B[38;5;129;01mnot\u001B[39;00m \u001B[38;5;28;01mNone\u001B[39;00m \u001B[38;5;129;01mand\u001B[39;00m \\\n\u001B[0;32m    635\u001B[0m         \u001B[38;5;28mself\u001B[39m\u001B[38;5;241m.\u001B[39m_num_yielded \u001B[38;5;241m>\u001B[39m \u001B[38;5;28mself\u001B[39m\u001B[38;5;241m.\u001B[39m_IterableDataset_len_called:\n",
      "File \u001B[1;32m~\\AppData\\Local\\Programs\\Python\\Python311\\Lib\\site-packages\\torch\\utils\\data\\dataloader.py:675\u001B[0m, in \u001B[0;36m_SingleProcessDataLoaderIter._next_data\u001B[1;34m(self)\u001B[0m\n\u001B[0;32m    673\u001B[0m \u001B[38;5;28;01mdef\u001B[39;00m \u001B[38;5;21m_next_data\u001B[39m(\u001B[38;5;28mself\u001B[39m):\n\u001B[0;32m    674\u001B[0m     index \u001B[38;5;241m=\u001B[39m \u001B[38;5;28mself\u001B[39m\u001B[38;5;241m.\u001B[39m_next_index()  \u001B[38;5;66;03m# may raise StopIteration\u001B[39;00m\n\u001B[1;32m--> 675\u001B[0m     data \u001B[38;5;241m=\u001B[39m \u001B[38;5;28;43mself\u001B[39;49m\u001B[38;5;241;43m.\u001B[39;49m\u001B[43m_dataset_fetcher\u001B[49m\u001B[38;5;241;43m.\u001B[39;49m\u001B[43mfetch\u001B[49m\u001B[43m(\u001B[49m\u001B[43mindex\u001B[49m\u001B[43m)\u001B[49m  \u001B[38;5;66;03m# may raise StopIteration\u001B[39;00m\n\u001B[0;32m    676\u001B[0m     \u001B[38;5;28;01mif\u001B[39;00m \u001B[38;5;28mself\u001B[39m\u001B[38;5;241m.\u001B[39m_pin_memory:\n\u001B[0;32m    677\u001B[0m         data \u001B[38;5;241m=\u001B[39m _utils\u001B[38;5;241m.\u001B[39mpin_memory\u001B[38;5;241m.\u001B[39mpin_memory(data, \u001B[38;5;28mself\u001B[39m\u001B[38;5;241m.\u001B[39m_pin_memory_device)\n",
      "File \u001B[1;32m~\\AppData\\Local\\Programs\\Python\\Python311\\Lib\\site-packages\\torch\\utils\\data\\_utils\\fetch.py:51\u001B[0m, in \u001B[0;36m_MapDatasetFetcher.fetch\u001B[1;34m(self, possibly_batched_index)\u001B[0m\n\u001B[0;32m     49\u001B[0m         data \u001B[38;5;241m=\u001B[39m \u001B[38;5;28mself\u001B[39m\u001B[38;5;241m.\u001B[39mdataset\u001B[38;5;241m.\u001B[39m__getitems__(possibly_batched_index)\n\u001B[0;32m     50\u001B[0m     \u001B[38;5;28;01melse\u001B[39;00m:\n\u001B[1;32m---> 51\u001B[0m         data \u001B[38;5;241m=\u001B[39m \u001B[43m[\u001B[49m\u001B[38;5;28;43mself\u001B[39;49m\u001B[38;5;241;43m.\u001B[39;49m\u001B[43mdataset\u001B[49m\u001B[43m[\u001B[49m\u001B[43midx\u001B[49m\u001B[43m]\u001B[49m\u001B[43m \u001B[49m\u001B[38;5;28;43;01mfor\u001B[39;49;00m\u001B[43m \u001B[49m\u001B[43midx\u001B[49m\u001B[43m \u001B[49m\u001B[38;5;129;43;01min\u001B[39;49;00m\u001B[43m \u001B[49m\u001B[43mpossibly_batched_index\u001B[49m\u001B[43m]\u001B[49m\n\u001B[0;32m     52\u001B[0m \u001B[38;5;28;01melse\u001B[39;00m:\n\u001B[0;32m     53\u001B[0m     data \u001B[38;5;241m=\u001B[39m \u001B[38;5;28mself\u001B[39m\u001B[38;5;241m.\u001B[39mdataset[possibly_batched_index]\n",
      "File \u001B[1;32m~\\AppData\\Local\\Programs\\Python\\Python311\\Lib\\site-packages\\torch\\utils\\data\\_utils\\fetch.py:51\u001B[0m, in \u001B[0;36m<listcomp>\u001B[1;34m(.0)\u001B[0m\n\u001B[0;32m     49\u001B[0m         data \u001B[38;5;241m=\u001B[39m \u001B[38;5;28mself\u001B[39m\u001B[38;5;241m.\u001B[39mdataset\u001B[38;5;241m.\u001B[39m__getitems__(possibly_batched_index)\n\u001B[0;32m     50\u001B[0m     \u001B[38;5;28;01melse\u001B[39;00m:\n\u001B[1;32m---> 51\u001B[0m         data \u001B[38;5;241m=\u001B[39m [\u001B[38;5;28;43mself\u001B[39;49m\u001B[38;5;241;43m.\u001B[39;49m\u001B[43mdataset\u001B[49m\u001B[43m[\u001B[49m\u001B[43midx\u001B[49m\u001B[43m]\u001B[49m \u001B[38;5;28;01mfor\u001B[39;00m idx \u001B[38;5;129;01min\u001B[39;00m possibly_batched_index]\n\u001B[0;32m     52\u001B[0m \u001B[38;5;28;01melse\u001B[39;00m:\n\u001B[0;32m     53\u001B[0m     data \u001B[38;5;241m=\u001B[39m \u001B[38;5;28mself\u001B[39m\u001B[38;5;241m.\u001B[39mdataset[possibly_batched_index]\n",
      "Cell \u001B[1;32mIn[269], line 36\u001B[0m, in \u001B[0;36mData.__getitem__\u001B[1;34m(self, item)\u001B[0m\n\u001B[0;32m     35\u001B[0m \u001B[38;5;28;01mdef\u001B[39;00m \u001B[38;5;21m__getitem__\u001B[39m(\u001B[38;5;28mself\u001B[39m, item):\n\u001B[1;32m---> 36\u001B[0m     \u001B[38;5;28;01mreturn\u001B[39;00m \u001B[38;5;28;43mself\u001B[39;49m\u001B[38;5;241;43m.\u001B[39;49m\u001B[43mboard\u001B[49m\u001B[43m[\u001B[49m\u001B[43mitem\u001B[49m\u001B[43m]\u001B[49m\u001B[38;5;241;43m.\u001B[39;49m\u001B[43mto\u001B[49m\u001B[43m(\u001B[49m\u001B[43mdevice\u001B[49m\u001B[43m)\u001B[49m, \u001B[38;5;28mself\u001B[39m\u001B[38;5;241m.\u001B[39mscore[item]\u001B[38;5;241m.\u001B[39mto(device)\n",
      "\u001B[1;31mKeyboardInterrupt\u001B[0m: "
     ]
    }
   ],
   "source": [
    "for epoch in range(25):\n",
    "    print(f'Epoch {epoch}...')\n",
    "    model.train()\n",
    "    Loss = []\n",
    "    for board, score in train:\n",
    "        sc = model(board)\n",
    "\n",
    "        loss = loss_fn(sc, score)\n",
    "\n",
    "        Loss.append(loss.item())\n",
    "\n",
    "        optim.zero_grad()\n",
    "        loss.backward()\n",
    "        optim.step()\n",
    "    loss = sum(Loss) / len(Loss)\n",
    "    train_loss.append(loss)\n",
    "    print(f'Train loss: {loss}')\n",
    "    model.eval()\n",
    "    Loss = []\n",
    "    for board, score in test:\n",
    "        sc = model(board)\n",
    "\n",
    "        loss = loss_fn(sc, score)\n",
    "\n",
    "        Loss.append(loss.item())\n",
    "    loss = sum(Loss) / len(Loss)\n",
    "    test_loss.append(loss)\n",
    "    if loss < best:\n",
    "        best = loss\n",
    "        torch.save(model, 'best.pt')\n",
    "    print(f'Test loss:{loss}')"
   ],
   "metadata": {
    "collapsed": false,
    "ExecuteTime": {
     "end_time": "2024-11-24T20:57:09.503982Z",
     "start_time": "2024-11-24T20:51:22.509405600Z"
    }
   },
   "id": "d270fa4da20ff87a"
  },
  {
   "cell_type": "code",
   "execution_count": 277,
   "outputs": [
    {
     "data": {
      "text/plain": "<Figure size 640x480 with 1 Axes>",
      "image/png": "[encoded data removed]"
     },
     "metadata": {},
     "output_type": "display_data"
    }
   ],
   "source": [
    "from matplotlib import pyplot as plt\n",
    "\n",
    "plt.title('train and test loss of model')\n",
    "plt.plot(train_loss, label='train')\n",
    "plt.plot(test_loss, label='test')\n",
    "plt.ylabel('loss')\n",
    "plt.xlabel('epoch')\n",
    "plt.legend()\n",
    "plt.show()"
   ],
   "metadata": {
    "collapsed": false,
    "ExecuteTime": {
     "end_time": "2024-11-24T20:57:10.914831900Z",
     "start_time": "2024-11-24T20:57:10.792359500Z"
    }
   },
   "id": "12b81620d139a4e8"
  },
  {
   "cell_type": "code",
   "execution_count": null,
   "outputs": [],
   "source": [],
   "metadata": {
    "collapsed": false
   },
   "id": "a4ce2cc42d128959"
  }
 ],
 "metadata": {
  "kernelspec": {
   "display_name": "Python 3",
   "language": "python",
   "name": "python3"
  },
  "language_info": {
   "codemirror_mode": {
    "name": "ipython",
    "version": 2
   },
   "file_extension": ".py",
   "mimetype": "text/x-python",
   "name": "python",
   "nbconvert_exporter": "python",
   "pygments_lexer": "ipython2",
   "version": "2.7.6"
  }
 },
 "nbformat": 4,
 "nbformat_minor": 5
}
